{
 "cells": [
  {
   "cell_type": "code",
   "execution_count": 3,
   "metadata": {},
   "outputs": [
    {
     "data": {
      "text/latex": [
       "$\\displaystyle 0.0749777782514379$"
      ],
      "text/plain": [
       "0.0749777782514379"
      ]
     },
     "execution_count": 3,
     "metadata": {},
     "output_type": "execute_result"
    }
   ],
   "source": [
    "from sympy import symbols,solve,Eq,pi\n",
    "\n",
    "class JPF:\n",
    "    \n",
    "    def __init__(self,diameter_value,length_value,sigma_value,sigma_yp_value,E_value,P_value,N_value):\n",
    "\n",
    "        self.diameter_value = diameter_value\n",
    "        self.length_value = length_value\n",
    "        self.sigma_value = sigma_value\n",
    "        self.sigma_yp_value = sigma_yp_value\n",
    "        self.E_value = E_value\n",
    "        self.P_value = P_value\n",
    "        self.N_value = N_value\n",
    "\n",
    "        P,A,sigma,sigma_yp,N,L,K,E,D = symbols('P A sigma sigma_yp N L K E D')\n",
    "     \n",
    "        self.jpf_formula = Eq(P,(A*sigma)*(1-(sigma_yp/(4*N*pi**2*E))*(L**2/K)))\n",
    "        self.area_formula = Eq(A,(pi*D**2)/4)\n",
    "        self.radius_of_gyration_squared_formula = Eq(K,(D**2)/16)\n",
    "\n",
    "        if self.diameter_value:\n",
    "            self.area_value = solve(self.area_formula.subs(D,self.diameter_value))[0]\n",
    "            self.ROG_value = solve(self.radius_of_gyration_squared_formula.subs(D,self.diameter_value))[0]\n",
    "        else:\n",
    "            self.area_value = solve(self.area_formula)[0][A]\n",
    "            self.ROG_value = solve(self.radius_of_gyration_squared_formula)[0][K]\n",
    "\n",
    "    def calculate(self):\n",
    "        attributes_dict = {\n",
    "            'L':self.length_value,\n",
    "            'sigma':self.sigma_value,\n",
    "            'sigma_yp':self.sigma_yp_value,\n",
    "            'E':self.E_value,\n",
    "            'P':self.P_value,\n",
    "            'N':self.N_value,\n",
    "            'A':self.area_value,\n",
    "            'K':self.ROG_value\n",
    "        }\n",
    "        known_values = []\n",
    "        for attribute_name,attribute_value in attributes_dict.items():\n",
    "            if attribute_value != None:\n",
    "                known_values.append((attribute_name,attribute_value))\n",
    "        result = solve(self.jpf_formula.subs(known_values))\n",
    "        return result[-1]\n",
    "\n",
    "# COEFFICIENT OF END CONDITION\n",
    "# ONE END FIXED AND THE OTHER FREE = 1/4\n",
    "# BOTH ENDS PINNED = 1\n",
    "# ONE END FIXED AND THE OTHER PINNED = 2\n",
    "# BOTH ENDS FIXED = 4  \n",
    "  \n",
    "params = {\n",
    "    'diameter_value':None, \n",
    "    'length_value':None,\n",
    "    'sigma_value':None, #safe stress\n",
    "    'sigma_yp_value':None, #elastic limit stress\n",
    "    'E_value':None, #modulus of elasticity (e.g 210e9)\n",
    "    'P_value':None, #safe load\n",
    "   ' N_value':None #coefficient of end-condition\n",
    "}\n",
    "   \n",
    "J = JPF(*params.values()) \n",
    "J.calculate()"
   ]
  },
  {
   "cell_type": "code",
   "execution_count": null,
   "metadata": {},
   "outputs": [],
   "source": []
  }
 ],
 "metadata": {
  "kernelspec": {
   "display_name": "Python 3",
   "language": "python",
   "name": "python3"
  },
  "language_info": {
   "codemirror_mode": {
    "name": "ipython",
    "version": 3
   },
   "file_extension": ".py",
   "mimetype": "text/x-python",
   "name": "python",
   "nbconvert_exporter": "python",
   "pygments_lexer": "ipython3",
   "version": "3.10.7"
  },
  "orig_nbformat": 4
 },
 "nbformat": 4,
 "nbformat_minor": 2
}
